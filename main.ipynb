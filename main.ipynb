{
 "cells": [
  {
   "cell_type": "markdown",
   "metadata": {},
   "source": [
    "# 149900 Individual Task Analysis\n",
    "\n",
    "Link to project: [Machine-Learning-Task](https://github.com/Arnold-18-CS/Machine-Learning-Task)"
   ]
  },
  {
   "cell_type": "markdown",
   "metadata": {},
   "source": [
    "Importing necessary libraries"
   ]
  },
  {
   "cell_type": "code",
   "execution_count": 180,
   "metadata": {},
   "outputs": [],
   "source": [
    "import pandas as pd\n",
    "import numpy as np\n",
    "import matplotlib.pyplot as plt\n",
    "import random"
   ]
  },
  {
   "cell_type": "markdown",
   "metadata": {},
   "source": [
    "Loading the data, and performing exploration"
   ]
  },
  {
   "cell_type": "code",
   "execution_count": 181,
   "metadata": {},
   "outputs": [
    {
     "data": {
      "text/html": [
       "<div>\n",
       "<style scoped>\n",
       "    .dataframe tbody tr th:only-of-type {\n",
       "        vertical-align: middle;\n",
       "    }\n",
       "\n",
       "    .dataframe tbody tr th {\n",
       "        vertical-align: top;\n",
       "    }\n",
       "\n",
       "    .dataframe thead th {\n",
       "        text-align: right;\n",
       "    }\n",
       "</style>\n",
       "<table border=\"1\" class=\"dataframe\">\n",
       "  <thead>\n",
       "    <tr style=\"text-align: right;\">\n",
       "      <th></th>\n",
       "      <th>LOC</th>\n",
       "      <th>FUR</th>\n",
       "      <th>AMB</th>\n",
       "      <th>PROX_SCH</th>\n",
       "      <th>PROX_ROAD</th>\n",
       "      <th>PROX_MALL</th>\n",
       "      <th>WATER</th>\n",
       "      <th>HK_SER</th>\n",
       "      <th>SIZE</th>\n",
       "      <th>PRICE</th>\n",
       "    </tr>\n",
       "  </thead>\n",
       "  <tbody>\n",
       "    <tr>\n",
       "      <th>0</th>\n",
       "      <td>karen</td>\n",
       "      <td>yes</td>\n",
       "      <td>serene</td>\n",
       "      <td>no</td>\n",
       "      <td>yes</td>\n",
       "      <td>yes</td>\n",
       "      <td>yes</td>\n",
       "      <td>yes</td>\n",
       "      <td>32.502345</td>\n",
       "      <td>31.707006</td>\n",
       "    </tr>\n",
       "    <tr>\n",
       "      <th>1</th>\n",
       "      <td>madaraka</td>\n",
       "      <td>yes</td>\n",
       "      <td>semi_serene</td>\n",
       "      <td>yes</td>\n",
       "      <td>yes</td>\n",
       "      <td>yes</td>\n",
       "      <td>no</td>\n",
       "      <td>no</td>\n",
       "      <td>53.426804</td>\n",
       "      <td>68.777596</td>\n",
       "    </tr>\n",
       "    <tr>\n",
       "      <th>2</th>\n",
       "      <td>karen</td>\n",
       "      <td>no</td>\n",
       "      <td>noisy</td>\n",
       "      <td>no</td>\n",
       "      <td>yes</td>\n",
       "      <td>yes</td>\n",
       "      <td>yes</td>\n",
       "      <td>yes</td>\n",
       "      <td>61.530358</td>\n",
       "      <td>62.562382</td>\n",
       "    </tr>\n",
       "    <tr>\n",
       "      <th>3</th>\n",
       "      <td>karen</td>\n",
       "      <td>yes</td>\n",
       "      <td>semi_serene</td>\n",
       "      <td>no</td>\n",
       "      <td>no</td>\n",
       "      <td>no</td>\n",
       "      <td>yes</td>\n",
       "      <td>yes</td>\n",
       "      <td>47.475640</td>\n",
       "      <td>71.546632</td>\n",
       "    </tr>\n",
       "    <tr>\n",
       "      <th>4</th>\n",
       "      <td>buruburu</td>\n",
       "      <td>no</td>\n",
       "      <td>semi_serene</td>\n",
       "      <td>no</td>\n",
       "      <td>yes</td>\n",
       "      <td>yes</td>\n",
       "      <td>yes</td>\n",
       "      <td>yes</td>\n",
       "      <td>59.813208</td>\n",
       "      <td>87.230925</td>\n",
       "    </tr>\n",
       "  </tbody>\n",
       "</table>\n",
       "</div>"
      ],
      "text/plain": [
       "        LOC  FUR          AMB PROX_SCH PROX_ROAD PROX_MALL WATER HK_SER  \\\n",
       "0     karen  yes       serene       no       yes       yes   yes    yes   \n",
       "1  madaraka  yes  semi_serene      yes       yes       yes    no     no   \n",
       "2     karen   no        noisy       no       yes       yes   yes    yes   \n",
       "3     karen  yes  semi_serene       no        no        no   yes    yes   \n",
       "4  buruburu   no  semi_serene       no       yes       yes   yes    yes   \n",
       "\n",
       "        SIZE      PRICE  \n",
       "0  32.502345  31.707006  \n",
       "1  53.426804  68.777596  \n",
       "2  61.530358  62.562382  \n",
       "3  47.475640  71.546632  \n",
       "4  59.813208  87.230925  "
      ]
     },
     "execution_count": 181,
     "metadata": {},
     "output_type": "execute_result"
    }
   ],
   "source": [
    "df = pd.read_csv(\"Nairobi Office Price Ex.csv\")\n",
    "df.head()"
   ]
  },
  {
   "cell_type": "code",
   "execution_count": 182,
   "metadata": {},
   "outputs": [
    {
     "name": "stdout",
     "output_type": "stream",
     "text": [
      "<class 'pandas.core.frame.DataFrame'>\n",
      "RangeIndex: 14 entries, 0 to 13\n",
      "Data columns (total 10 columns):\n",
      " #   Column     Non-Null Count  Dtype  \n",
      "---  ------     --------------  -----  \n",
      " 0   LOC        14 non-null     object \n",
      " 1   FUR        14 non-null     object \n",
      " 2   AMB        14 non-null     object \n",
      " 3   PROX_SCH   14 non-null     object \n",
      " 4   PROX_ROAD  14 non-null     object \n",
      " 5   PROX_MALL  14 non-null     object \n",
      " 6   WATER      14 non-null     object \n",
      " 7   HK_SER     14 non-null     object \n",
      " 8   SIZE       14 non-null     float64\n",
      " 9   PRICE      14 non-null     float64\n",
      "dtypes: float64(2), object(8)\n",
      "memory usage: 1.2+ KB\n"
     ]
    }
   ],
   "source": [
    "df.info()"
   ]
  },
  {
   "cell_type": "markdown",
   "metadata": {},
   "source": [
    "Checking for missing values"
   ]
  },
  {
   "cell_type": "code",
   "execution_count": 183,
   "metadata": {},
   "outputs": [
    {
     "data": {
      "text/plain": [
       "LOC          0\n",
       "FUR          0\n",
       "AMB          0\n",
       "PROX_SCH     0\n",
       "PROX_ROAD    0\n",
       "PROX_MALL    0\n",
       "WATER        0\n",
       "HK_SER       0\n",
       "SIZE         0\n",
       "PRICE        0\n",
       "dtype: int64"
      ]
     },
     "execution_count": 183,
     "metadata": {},
     "output_type": "execute_result"
    }
   ],
   "source": [
    "df.isnull().sum()"
   ]
  },
  {
   "cell_type": "markdown",
   "metadata": {},
   "source": [
    "Extracting target and feature"
   ]
  },
  {
   "cell_type": "code",
   "execution_count": 184,
   "metadata": {},
   "outputs": [
    {
     "name": "stdout",
     "output_type": "stream",
     "text": [
      "[32.50234527 53.42680403 61.53035803 47.47563963 59.81320787 55.14218841\n",
      " 52.21179669 39.29956669 48.10504169 52.55001444 45.41973014 54.35163488\n",
      " 44.1640495  58.16847072] [31.70700585 68.77759598 62.5623823  71.54663223 87.23092513 78.21151827\n",
      " 79.64197305 59.17148932 75.3312423  71.30087989 55.16567715 82.47884676\n",
      " 62.00892325 75.39287043]\n"
     ]
    }
   ],
   "source": [
    "x = df['SIZE'].values\n",
    "y = df['PRICE'].values\n",
    "print(x,y)"
   ]
  },
  {
   "cell_type": "code",
   "execution_count": 185,
   "metadata": {},
   "outputs": [
    {
     "name": "stdout",
     "output_type": "stream",
     "text": [
      "14 14\n"
     ]
    }
   ],
   "source": [
    "print(len(x), len(y))"
   ]
  },
  {
   "cell_type": "markdown",
   "metadata": {},
   "source": [
    "Checking distribution"
   ]
  },
  {
   "cell_type": "code",
   "execution_count": 186,
   "metadata": {},
   "outputs": [
    {
     "data": {
      "text/plain": [
       "<Axes: ylabel='Frequency'>"
      ]
     },
     "execution_count": 186,
     "metadata": {},
     "output_type": "execute_result"
    },
    {
     "data": {
      "image/png": "[encoded data removed]",
      "text/plain": [
       "<Figure size 640x480 with 1 Axes>"
      ]
     },
     "metadata": {},
     "output_type": "display_data"
    }
   ],
   "source": [
    "df.SIZE.plot(kind=\"hist\")"
   ]
  },
  {
   "cell_type": "code",
   "execution_count": 187,
   "metadata": {},
   "outputs": [
    {
     "data": {
      "text/plain": [
       "<Axes: ylabel='Frequency'>"
      ]
     },
     "execution_count": 187,
     "metadata": {},
     "output_type": "execute_result"
    },
    {
     "data": {
      "image/png": "[encoded data removed]",
      "text/plain": [
       "<Figure size 640x480 with 1 Axes>"
      ]
     },
     "metadata": {},
     "output_type": "display_data"
    }
   ],
   "source": [
    "df.PRICE.plot(kind=\"hist\")\n"
   ]
  },
  {
   "cell_type": "markdown",
   "metadata": {},
   "source": [
    "Data Normalization"
   ]
  },
  {
   "cell_type": "code",
   "execution_count": 188,
   "metadata": {},
   "outputs": [
    {
     "name": "stdout",
     "output_type": "stream",
     "text": [
      "[0.         0.72083676 1.         0.51582223 0.94084507 0.77993087\n",
      " 0.67898039 0.23416076 0.53750481 0.69063182 0.44499722 0.75269671\n",
      " 0.40173967 0.88418472] [0.         0.66765082 0.55571323 0.71752187 1.         0.83755817\n",
      " 0.86332103 0.49464238 0.78568367 0.71309581 0.42249668 0.91441385\n",
      " 0.54574529 0.7867936 ]\n"
     ]
    }
   ],
   "source": [
    "x = (x - x.min())/ (x.max() - x.min())\n",
    "y = (y - y.min())/ (y.max() - y.min()) \n",
    "\n",
    "print(x, y)"
   ]
  },
  {
   "attachments": {
    "image.png": {
     "image/png": "[encoded data removed]"
    }
   },
   "cell_type": "markdown",
   "metadata": {},
   "source": [
    "Mean Squared Error Function\n",
    "\n",
    "![Mean Squared Error Formula](attachment:image.png)"
   ]
  },
  {
   "cell_type": "code",
   "execution_count": 189,
   "metadata": {},
   "outputs": [],
   "source": [
    "def mean_squared_error(y, y_hat):\n",
    "    return np.mean((y-y_hat)**2)\n"
   ]
  },
  {
   "attachments": {
    "image.png": {
     "image/png": "[encoded data removed]"
    }
   },
   "cell_type": "markdown",
   "metadata": {},
   "source": [
    "Gradient Descent Function\n",
    "\n",
    "![image.png](attachment:image.png)"
   ]
  },
  {
   "cell_type": "code",
   "execution_count": 190,
   "metadata": {},
   "outputs": [],
   "source": [
    "def gradient_descent(x, y, m, c, L):\n",
    "    N = len(y)\n",
    "    y_hat = m*x + c\n",
    "    dm = (-2/N) * np.sum(x * (y - y_hat))\n",
    "    dc = (-2/N) * np.sum(y - y_hat)\n",
    "    m -= L * dm\n",
    "    c -= L * dc\n",
    "    return m, c"
   ]
  },
  {
   "cell_type": "markdown",
   "metadata": {},
   "source": [
    "Providing values for slope and y-intercept\n"
   ]
  },
  {
   "cell_type": "code",
   "execution_count": 191,
   "metadata": {},
   "outputs": [],
   "source": [
    "m, c = np.random.rand(), np.random.rand()\n",
    "L = 0.01\n",
    "epochs = 10"
   ]
  },
  {
   "cell_type": "markdown",
   "metadata": {},
   "source": [
    "Training model"
   ]
  },
  {
   "cell_type": "code",
   "execution_count": 192,
   "metadata": {},
   "outputs": [
    {
     "name": "stdout",
     "output_type": "stream",
     "text": [
      "Epoch 1: Mean Squared Error = 0.0652200596487598, m = 0.7155241598256477, c = 0.42815912327286487\n",
      "Epoch 2: Mean Squared Error = 0.06299105094097208, m = 0.7130230353923953, c = 0.42411561395620745\n",
      "Epoch 3: Mean Squared Error = 0.060884744361059194, m = 0.7105938843700043, c = 0.4201836397941625\n",
      "Epoch 4: Mean Squared Error = 0.05889438292211847, m = 0.7082346947483027, c = 0.41636008765558596\n",
      "Epoch 5: Mean Squared Error = 0.05701358173759214, m = 0.7059435107035364, c = 0.41264193134015276\n",
      "Epoch 6: Mean Squared Error = 0.055236307530072117, m = 0.7037184310293952, c = 0.40902622915086845\n",
      "Epoch 7: Mean Squared Error = 0.05355685926853412, m = 0.7015576076118514, c = 0.40551012153436683\n",
      "Epoch 8: Mean Squared Error = 0.05196984987186059, m = 0.6994592439465883, c = 0.402090828787101\n",
      "Epoch 9: Mean Squared Error = 0.05047018891993211, m = 0.6974215936978283, c = 0.39876564882558746\n",
      "Epoch 10: Mean Squared Error = 0.04905306631680164, m = 0.6954429592974047, c = 0.3955319550189147\n"
     ]
    }
   ],
   "source": [
    "for epoch in range(epochs):\n",
    "    y_hat = m*x + c\n",
    "    mse = mean_squared_error(y, y_hat)\n",
    "    print(f\"Epoch {epoch + 1}: Mean Squared Error = {mse}, m = {m}, c = {c}\")\n",
    "    m, c = gradient_descent(x,y,m,c,L)\n"
   ]
  },
  {
   "cell_type": "markdown",
   "metadata": {},
   "source": [
    "Plotting the final line of best fit"
   ]
  },
  {
   "cell_type": "code",
   "execution_count": 193,
   "metadata": {},
   "outputs": [
    {
     "data": {
      "image/png": "[encoded data removed]",
      "text/plain": [
       "<Figure size 640x480 with 1 Axes>"
      ]
     },
     "metadata": {},
     "output_type": "display_data"
    }
   ],
   "source": [
    "plt.scatter(x, y,label = \"Points\")\n",
    "plt.plot(x, m*x + c, label = \"Line of best fit\")\n",
    "plt.xlabel(\"Office Size\")\n",
    "plt.ylabel(\"Office Price\")\n",
    "plt.legend()\n",
    "plt.show()"
   ]
  },
  {
   "cell_type": "markdown",
   "metadata": {},
   "source": [
    "Prediction of office price for size = 100 sq ft"
   ]
  },
  {
   "cell_type": "code",
   "execution_count": 194,
   "metadata": {},
   "outputs": [
    {
     "name": "stdout",
     "output_type": "stream",
     "text": [
      "Predicted price of 100 sq ft office is: 143.032737\n"
     ]
    }
   ],
   "source": [
    "size = (100 - df['SIZE'].min()) / (df['SIZE'].max() - df['SIZE'].min()) \n",
    "predicted_price = m * size + c\n",
    "unscaled_predicted_price =  predicted_price * (df['PRICE'].max() - df['PRICE'].min()) + df['PRICE'].min()\n",
    "print(f\"Predicted price of 100 sq ft office is: {round(unscaled_predicted_price, 6)}\")"
   ]
  }
 ],
 "metadata": {
  "kernelspec": {
   "display_name": "Python 3",
   "language": "python",
   "name": "python3"
  },
  "language_info": {
   "codemirror_mode": {
    "name": "ipython",
    "version": 3
   },
   "file_extension": ".py",
   "mimetype": "text/x-python",
   "name": "python",
   "nbconvert_exporter": "python",
   "pygments_lexer": "ipython3",
   "version": "3.12.6"
  }
 },
 "nbformat": 4,
 "nbformat_minor": 2
}
