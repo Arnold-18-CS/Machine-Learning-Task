{
 "cells": [
  {
   "cell_type": "markdown",
   "metadata": {},
   "source": [
    "# 149900 Individual Task Analysis\n",
    "\n",
    "Link to project: [Machine-Learning-Task](https://github.com/Arnold-18-CS/Machine-Learning-Task)"
   ]
  },
  {
   "cell_type": "markdown",
   "metadata": {},
   "source": [
    "Importing necessary libraries"
   ]
  },
  {
   "cell_type": "code",
   "execution_count": 1,
   "metadata": {},
   "outputs": [],
   "source": [
    "import pandas as pd\n",
    "import numpy as np"
   ]
  },
  {
   "cell_type": "code",
   "execution_count": 3,
   "metadata": {},
   "outputs": [
    {
     "data": {
      "text/html": [
       "<div>\n",
       "<style scoped>\n",
       "    .dataframe tbody tr th:only-of-type {\n",
       "        vertical-align: middle;\n",
       "    }\n",
       "\n",
       "    .dataframe tbody tr th {\n",
       "        vertical-align: top;\n",
       "    }\n",
       "\n",
       "    .dataframe thead th {\n",
       "        text-align: right;\n",
       "    }\n",
       "</style>\n",
       "<table border=\"1\" class=\"dataframe\">\n",
       "  <thead>\n",
       "    <tr style=\"text-align: right;\">\n",
       "      <th></th>\n",
       "      <th>LOC</th>\n",
       "      <th>FUR</th>\n",
       "      <th>AMB</th>\n",
       "      <th>PROX_SCH</th>\n",
       "      <th>PROX_ROAD</th>\n",
       "      <th>PROX_MALL</th>\n",
       "      <th>WATER</th>\n",
       "      <th>HK_SER</th>\n",
       "      <th>SIZE</th>\n",
       "      <th>PRICE</th>\n",
       "    </tr>\n",
       "  </thead>\n",
       "  <tbody>\n",
       "    <tr>\n",
       "      <th>0</th>\n",
       "      <td>karen</td>\n",
       "      <td>yes</td>\n",
       "      <td>serene</td>\n",
       "      <td>no</td>\n",
       "      <td>yes</td>\n",
       "      <td>yes</td>\n",
       "      <td>yes</td>\n",
       "      <td>yes</td>\n",
       "      <td>32.502345</td>\n",
       "      <td>31.707006</td>\n",
       "    </tr>\n",
       "    <tr>\n",
       "      <th>1</th>\n",
       "      <td>madaraka</td>\n",
       "      <td>yes</td>\n",
       "      <td>semi_serene</td>\n",
       "      <td>yes</td>\n",
       "      <td>yes</td>\n",
       "      <td>yes</td>\n",
       "      <td>no</td>\n",
       "      <td>no</td>\n",
       "      <td>53.426804</td>\n",
       "      <td>68.777596</td>\n",
       "    </tr>\n",
       "    <tr>\n",
       "      <th>2</th>\n",
       "      <td>karen</td>\n",
       "      <td>no</td>\n",
       "      <td>noisy</td>\n",
       "      <td>no</td>\n",
       "      <td>yes</td>\n",
       "      <td>yes</td>\n",
       "      <td>yes</td>\n",
       "      <td>yes</td>\n",
       "      <td>61.530358</td>\n",
       "      <td>62.562382</td>\n",
       "    </tr>\n",
       "    <tr>\n",
       "      <th>3</th>\n",
       "      <td>karen</td>\n",
       "      <td>yes</td>\n",
       "      <td>semi_serene</td>\n",
       "      <td>no</td>\n",
       "      <td>no</td>\n",
       "      <td>no</td>\n",
       "      <td>yes</td>\n",
       "      <td>yes</td>\n",
       "      <td>47.475640</td>\n",
       "      <td>71.546632</td>\n",
       "    </tr>\n",
       "    <tr>\n",
       "      <th>4</th>\n",
       "      <td>buruburu</td>\n",
       "      <td>no</td>\n",
       "      <td>semi_serene</td>\n",
       "      <td>no</td>\n",
       "      <td>yes</td>\n",
       "      <td>yes</td>\n",
       "      <td>yes</td>\n",
       "      <td>yes</td>\n",
       "      <td>59.813208</td>\n",
       "      <td>87.230925</td>\n",
       "    </tr>\n",
       "  </tbody>\n",
       "</table>\n",
       "</div>"
      ],
      "text/plain": [
       "        LOC  FUR          AMB PROX_SCH PROX_ROAD PROX_MALL WATER HK_SER  \\\n",
       "0     karen  yes       serene       no       yes       yes   yes    yes   \n",
       "1  madaraka  yes  semi_serene      yes       yes       yes    no     no   \n",
       "2     karen   no        noisy       no       yes       yes   yes    yes   \n",
       "3     karen  yes  semi_serene       no        no        no   yes    yes   \n",
       "4  buruburu   no  semi_serene       no       yes       yes   yes    yes   \n",
       "\n",
       "        SIZE      PRICE  \n",
       "0  32.502345  31.707006  \n",
       "1  53.426804  68.777596  \n",
       "2  61.530358  62.562382  \n",
       "3  47.475640  71.546632  \n",
       "4  59.813208  87.230925  "
      ]
     },
     "execution_count": 3,
     "metadata": {},
     "output_type": "execute_result"
    }
   ],
   "source": [
    "df = pd.read_csv(\"Nairobi Office Price Ex.csv\")\n",
    "df.head()"
   ]
  },
  {
   "cell_type": "code",
   "execution_count": 4,
   "metadata": {},
   "outputs": [
    {
     "name": "stdout",
     "output_type": "stream",
     "text": [
      "<class 'pandas.core.frame.DataFrame'>\n",
      "RangeIndex: 14 entries, 0 to 13\n",
      "Data columns (total 10 columns):\n",
      " #   Column     Non-Null Count  Dtype  \n",
      "---  ------     --------------  -----  \n",
      " 0   LOC        14 non-null     object \n",
      " 1   FUR        14 non-null     object \n",
      " 2   AMB        14 non-null     object \n",
      " 3   PROX_SCH   14 non-null     object \n",
      " 4   PROX_ROAD  14 non-null     object \n",
      " 5   PROX_MALL  14 non-null     object \n",
      " 6   WATER      14 non-null     object \n",
      " 7   HK_SER     14 non-null     object \n",
      " 8   SIZE       14 non-null     float64\n",
      " 9   PRICE      14 non-null     float64\n",
      "dtypes: float64(2), object(8)\n",
      "memory usage: 1.2+ KB\n"
     ]
    }
   ],
   "source": [
    "df.info()"
   ]
  },
  {
   "cell_type": "code",
   "execution_count": 9,
   "metadata": {},
   "outputs": [
    {
     "name": "stdout",
     "output_type": "stream",
     "text": [
      "[32.50234527, 53.42680403, 61.53035803, 47.47563963, 59.81320787, 55.14218841, 52.21179669, 39.29956669, 48.10504169, 52.55001444, 45.41973014, 54.35163488, 44.1640495, 58.16847072] [31.70700585, 68.77759598, 62.5623823, 71.54663223, 87.23092513, 78.21151827, 79.64197305, 59.17148932, 75.3312423, 71.30087989, 55.16567715, 82.47884676, 62.00892325, 75.39287043]\n"
     ]
    }
   ],
   "source": [
    "x = df['SIZE'].tolist()\n",
    "y = df['PRICE'].tolist()\n",
    "print(x,y)"
   ]
  }
 ],
 "metadata": {
  "kernelspec": {
   "display_name": "Python 3",
   "language": "python",
   "name": "python3"
  },
  "language_info": {
   "codemirror_mode": {
    "name": "ipython",
    "version": 3
   },
   "file_extension": ".py",
   "mimetype": "text/x-python",
   "name": "python",
   "nbconvert_exporter": "python",
   "pygments_lexer": "ipython3",
   "version": "3.12.6"
  }
 },
 "nbformat": 4,
 "nbformat_minor": 2
}
